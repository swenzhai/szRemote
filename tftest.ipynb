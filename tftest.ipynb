{
 "cells": [
  {
   "cell_type": "code",
   "execution_count": 4,
   "metadata": {},
   "outputs": [],
   "source": [
    "import tensorflow as tf\n",
    "sess = tf.InteractiveSession()"
   ]
  },
  {
   "cell_type": "code",
   "execution_count": 5,
   "metadata": {},
   "outputs": [
    {
     "name": "stdout",
     "output_type": "stream",
     "text": [
      "WARNING:tensorflow:From /home/swen/.local/lib/python3.5/site-packages/tensorflow/python/util/tf_should_use.py:118: initialize_all_variables (from tensorflow.python.ops.variables) is deprecated and will be removed after 2017-03-02.\n",
      "Instructions for updating:\n",
      "Use `tf.global_variables_initializer` instead.\n",
      "0 [[-0.5505862   0.97908145]] [0.47570738]\n",
      "20 [[-0.03095857  0.30861944]] [0.3126371]\n",
      "40 [[0.07471605 0.21503392]] [0.30538392]\n",
      "60 [[0.09452868 0.20139377]] [0.30208716]\n",
      "80 [[0.09863131 0.19982906]] [0.3007798]\n",
      "100 [[0.09960598 0.19982517]] [0.30028677]\n",
      "120 [[0.0998741  0.19991776]] [0.3001047]\n",
      "140 [[0.09995715 0.19996701]] [0.30003813]\n",
      "160 [[0.09998491 0.1999875 ]] [0.30001387]\n",
      "180 [[0.09999459 0.19999538]] [0.30000505]\n",
      "200 [[0.09999806 0.19999832]] [0.30000183]\n"
     ]
    }
   ],
   "source": [
    "import tensorflow as tf\n",
    "import numpy as np\n",
    "\n",
    "#use numpy create pseudo data\n",
    "x_data = np.float32(np.random.rand(2,100))\n",
    "y_data = np.dot([0.100,0.200],x_data)+0.300\n",
    "\n",
    "#create a linear model\n",
    "b = tf.Variable(tf.zeros([1]))\n",
    "W = tf.Variable(tf.random_uniform([1,2],-1.0,1.0))\n",
    "y = tf.matmul(W, x_data)+b\n",
    "\n",
    "## min\n",
    "loss = tf.reduce_mean(tf.square(y - y_data))\n",
    "optimizer = tf.train.GradientDescentOptimizer(0.5)\n",
    "train = optimizer.minimize(loss)\n",
    "\n",
    "# init\n",
    "init = tf.initialize_all_variables()\n",
    "\n",
    "#graph\n",
    "sess = tf.Session()\n",
    "sess.run(init)\n",
    "\n",
    "#nihe\n",
    "for step in range(0, 201):\n",
    "    sess.run(train)\n",
    "    if step % 20 == 0:\n",
    "        print( step, sess.run(W), sess.run(b))"
   ]
  },
  {
   "cell_type": "code",
   "execution_count": null,
   "metadata": {},
   "outputs": [],
   "source": []
  }
 ],
 "metadata": {
  "kernelspec": {
   "display_name": "Python 3",
   "language": "python",
   "name": "python3"
  },
  "language_info": {
   "codemirror_mode": {
    "name": "ipython",
    "version": 3
   },
   "file_extension": ".py",
   "mimetype": "text/x-python",
   "name": "python",
   "nbconvert_exporter": "python",
   "pygments_lexer": "ipython3",
   "version": "3.5.2"
  }
 },
 "nbformat": 4,
 "nbformat_minor": 2
}
